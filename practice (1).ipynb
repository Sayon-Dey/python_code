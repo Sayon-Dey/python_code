{
 "cells": [
  {
   "cell_type": "code",
   "execution_count": 1,
   "id": "646d4b7d",
   "metadata": {},
   "outputs": [
    {
     "name": "stdout",
     "output_type": "stream",
     "text": [
      "Enter the Marks100\n",
      "A\n"
     ]
    }
   ],
   "source": [
    "# 1.Grading system\n",
    "score=int(input('Enter the Marks'))\n",
    "if score<=25:\n",
    "    print('F')\n",
    "elif score>=25 and score<=45:\n",
    "    print('E')\n",
    "elif score>=46 and score<=50:\n",
    "    print('D')\n",
    "elif score>=50 and score<=60:\n",
    "    print('C')\n",
    "elif score>=60 and score<=80:\n",
    "    print('B')\n",
    "else:\n",
    "    print('A')"
   ]
  },
  {
   "cell_type": "markdown",
   "id": "c50d0288",
   "metadata": {},
   "source": [
    "# 3.Input of age of people"
   ]
  },
  {
   "cell_type": "code",
   "execution_count": 1,
   "id": "5d1f3711",
   "metadata": {},
   "outputs": [
    {
     "name": "stdout",
     "output_type": "stream",
     "text": [
      "Enter your age of first peson15\n",
      "Oldest\n"
     ]
    }
   ],
   "source": [
    "age=int(input('Enter your age of first peson'))\n",
    "if age>=0:\n",
    "    print('Oldest')\n",
    "else:\n",
    "    print('yougest')"
   ]
  },
  {
   "cell_type": "code",
   "execution_count": 2,
   "id": "eaa2e2aa",
   "metadata": {},
   "outputs": [
    {
     "name": "stdout",
     "output_type": "stream",
     "text": [
      "Enter your age of second person22\n",
      "Oldest\n"
     ]
    }
   ],
   "source": [
    "age=int(input('Enter your age of second person'))\n",
    "if age>=0:\n",
    "    print('Oldest')\n",
    "else:\n",
    "    print('yougest')"
   ]
  },
  {
   "cell_type": "code",
   "execution_count": 3,
   "id": "f6db94cd",
   "metadata": {},
   "outputs": [
    {
     "name": "stdout",
     "output_type": "stream",
     "text": [
      "Enter your age of third person25\n",
      "Oldest\n"
     ]
    }
   ],
   "source": [
    "age=int(input('Enter your age of third person'))\n",
    "if age>=0:\n",
    "    print('Oldest')\n",
    "else:\n",
    "    print('yougest')"
   ]
  },
  {
   "cell_type": "markdown",
   "id": "7b6da548",
   "metadata": {},
   "source": [
    "## 2 Length and breadth of a rectangle"
   ]
  },
  {
   "cell_type": "code",
   "execution_count": 6,
   "id": "a9a78b98",
   "metadata": {},
   "outputs": [
    {
     "name": "stdout",
     "output_type": "stream",
     "text": [
      "Enter the length15\n",
      "Enter the breadth25\n",
      "It is not square\n"
     ]
    }
   ],
   "source": [
    "length=int(input('Enter the length'))\n",
    "breadth=int(input('Enter the breadth'))\n",
    "if length==breadth:\n",
    "    print('It is square')\n",
    "else:\n",
    "    print('It is not square')"
   ]
  },
  {
   "cell_type": "markdown",
   "id": "91ce2d57",
   "metadata": {},
   "source": [
    "# 1..Salary"
   ]
  },
  {
   "cell_type": "code",
   "execution_count": 5,
   "id": "6835eb03",
   "metadata": {},
   "outputs": [
    {
     "name": "stdout",
     "output_type": "stream",
     "text": [
      "Enter your salary5\n",
      "Enter the years of service5\n",
      "There is no bonus amount\n"
     ]
    }
   ],
   "source": [
    "salary=int(input('Enter your salary'))\n",
    "year=int(input('Enter the years of service'))\n",
    "if year>5:\n",
    "    print('There is a bonus amount')\n",
    "else:\n",
    "    print('There is no bonus amount')"
   ]
  },
  {
   "cell_type": "markdown",
   "id": "cdbbc343",
   "metadata": {},
   "source": [
    "# 1.Respective month"
   ]
  },
  {
   "cell_type": "code",
   "execution_count": 7,
   "id": "868a26b7",
   "metadata": {},
   "outputs": [
    {
     "name": "stdout",
     "output_type": "stream",
     "text": [
      "Enter the month name11\n",
      "This is november\n"
     ]
    }
   ],
   "source": [
    "num=int(input('Enter the month name'))\n",
    "if num==1:\n",
    "    print('This is January')\n",
    "elif num==2:\n",
    "    print('This is february')\n",
    "elif num==3:\n",
    "    print('This is march')\n",
    "elif num==4:\n",
    "    print('This is april')\n",
    "elif num==5:\n",
    "    print('This is may')\n",
    "elif num==6:\n",
    "    print('This is june')\n",
    "elif num==7:\n",
    "    print('This is july')\n",
    "elif num==8:\n",
    "    print('This is august')\n",
    "elif num==9:\n",
    "    print('This is september')\n",
    "elif num==10:\n",
    "    print('This is october')\n",
    "elif num==11:\n",
    "    print('This is november')\n",
    "elif num==12:\n",
    "    print('This is december')\n",
    "else:\n",
    "    print('None')"
   ]
  },
  {
   "cell_type": "markdown",
   "id": "7c0b245f",
   "metadata": {},
   "source": [
    "## 2.Arithmetic operator"
   ]
  },
  {
   "cell_type": "code",
   "execution_count": 15,
   "id": "2f553919",
   "metadata": {},
   "outputs": [
    {
     "name": "stdout",
     "output_type": "stream",
     "text": [
      "Enter the first num10\n",
      "Enter the second num15\n",
      "Addition 25\n"
     ]
    }
   ],
   "source": [
    "num1=int(input('Enter the first num'))\n",
    "num2=int(input('Enter the second num'))\n",
    "add=num1+num2\n",
    "print('Addition',add)"
   ]
  },
  {
   "cell_type": "code",
   "execution_count": 16,
   "id": "9f7a28a1",
   "metadata": {},
   "outputs": [
    {
     "name": "stdout",
     "output_type": "stream",
     "text": [
      "Enter the first num15\n",
      "Enter the second num10\n",
      "Subtraction 5\n"
     ]
    }
   ],
   "source": [
    "num1=int(input('Enter the first num'))\n",
    "num2=int(input('Enter the second num'))\n",
    "sub=num1-num2\n",
    "print('Subtraction',sub)"
   ]
  },
  {
   "cell_type": "code",
   "execution_count": 17,
   "id": "ac50b487",
   "metadata": {},
   "outputs": [
    {
     "name": "stdout",
     "output_type": "stream",
     "text": [
      "Enter the first num10\n",
      "Enter the second num15\n",
      "Multiplication 150\n"
     ]
    }
   ],
   "source": [
    "num1=int(input('Enter the first num'))\n",
    "num2=int(input('Enter the second num'))\n",
    "mul=num1*num2\n",
    "print('Multiplication',mul)"
   ]
  },
  {
   "cell_type": "code",
   "execution_count": 18,
   "id": "48545ffb",
   "metadata": {},
   "outputs": [
    {
     "name": "stdout",
     "output_type": "stream",
     "text": [
      "Enter the first num100\n",
      "Enter the second num25\n",
      "Division 4.0\n"
     ]
    }
   ],
   "source": [
    "num1=int(input('Enter the first num'))\n",
    "num2=int(input('Enter the second num'))\n",
    "div=num1/num2\n",
    "print('Division',div)"
   ]
  },
  {
   "cell_type": "markdown",
   "id": "341a3453",
   "metadata": {
    "scrolled": true
   },
   "source": [
    "O.3 temperature not done"
   ]
  },
  {
   "cell_type": "markdown",
   "id": "1ca9a7b2",
   "metadata": {},
   "source": [
    "## 1.Enter two numbers and print the greatest"
   ]
  },
  {
   "cell_type": "code",
   "execution_count": 4,
   "id": "68066c3a",
   "metadata": {
    "scrolled": true
   },
   "outputs": [
    {
     "name": "stdout",
     "output_type": "stream",
     "text": [
      "Enter the first number25\n",
      "Enter the second number10\n",
      "The greatest number\n"
     ]
    }
   ],
   "source": [
    "num1=int(input('Enter the first number'))\n",
    "num2=int(input('Enter the second number'))\n",
    "if num1>=num2:\n",
    "    print('The greatest number')\n",
    "elif num1<=num2:\n",
    "    print('The lowest number')\n",
    "else:\n",
    "    print('None')"
   ]
  },
  {
   "cell_type": "markdown",
   "id": "c72813c4",
   "metadata": {},
   "source": [
    "# 2.Enter two numbers and print the smallest"
   ]
  },
  {
   "cell_type": "code",
   "execution_count": 3,
   "id": "5a06bd62",
   "metadata": {
    "scrolled": true
   },
   "outputs": [
    {
     "name": "stdout",
     "output_type": "stream",
     "text": [
      "Enter the first number49\n",
      "Enter the second number55\n",
      "The smallest number\n"
     ]
    }
   ],
   "source": [
    "num1=int(input('Enter the first number'))\n",
    "num2=int(input('Enter the second number'))\n",
    "if num1>=num2:\n",
    "    print('The highest number')\n",
    "elif num1<=num2:\n",
    "    print('The smallest number')\n",
    "else:\n",
    "    print('None')"
   ]
  },
  {
   "cell_type": "markdown",
   "id": "72b7eeaa",
   "metadata": {},
   "source": [
    "# Enter three numbers and print the greatest"
   ]
  },
  {
   "cell_type": "code",
   "execution_count": 5,
   "id": "8e9a6bf7",
   "metadata": {
    "scrolled": true
   },
   "outputs": [
    {
     "name": "stdout",
     "output_type": "stream",
     "text": [
      "Enter the first number39\n",
      "Enter the second number25\n",
      "Enter the third number14\n",
      "The greatest number\n"
     ]
    }
   ],
   "source": [
    "num1=int(input('Enter the first number'))\n",
    "num2=int(input('Enter the second number'))\n",
    "num3=int(input('Enter the third number'))\n",
    "if num1>=num2:\n",
    "    print('The greatest number')\n",
    "elif num1<=num2:\n",
    "    print('The lowest number')\n",
    "elif num2>=num3:\n",
    "    print('The greatest number')\n",
    "elif num2<=num3:\n",
    "    print('The lowest number')\n",
    "else:\n",
    "    print('None')"
   ]
  },
  {
   "cell_type": "markdown",
   "id": "b35eb45a",
   "metadata": {},
   "source": [
    "# Enter three number and print the smallest"
   ]
  },
  {
   "cell_type": "code",
   "execution_count": 7,
   "id": "ffa5e281",
   "metadata": {},
   "outputs": [
    {
     "name": "stdout",
     "output_type": "stream",
     "text": [
      "Enter the first number47\n",
      "Enter the second number58\n",
      "Enter the third number69\n",
      "The smallest number\n"
     ]
    }
   ],
   "source": [
    "num1=int(input('Enter the first number'))\n",
    "num2=int(input('Enter the second number'))\n",
    "num3=int(input('Enter the third number'))\n",
    "if num1>=num2:\n",
    "    print('The highest number')\n",
    "elif num1<=num2:\n",
    "    print('The smallest number')\n",
    "elif num2>=num3:\n",
    "    print('The highest number')\n",
    "elif num2<=num3:\n",
    "    print('The smallest number')\n",
    "else:\n",
    "    print('None')"
   ]
  },
  {
   "cell_type": "markdown",
   "id": "c1d8e906",
   "metadata": {},
   "source": [
    "# 5. Quadratic Equation"
   ]
  },
  {
   "cell_type": "code",
   "execution_count": 1,
   "id": "6d50dc64",
   "metadata": {
    "scrolled": true
   },
   "outputs": [
    {
     "name": "stdout",
     "output_type": "stream",
     "text": [
      "Enter first num5\n",
      "Enter second num2\n",
      "Enter third num4\n"
     ]
    },
    {
     "ename": "NameError",
     "evalue": "name 'sqrt' is not defined",
     "output_type": "error",
     "traceback": [
      "\u001b[1;31m---------------------------------------------------------------------------\u001b[0m",
      "\u001b[1;31mNameError\u001b[0m                                 Traceback (most recent call last)",
      "\u001b[1;32m~\\AppData\\Local\\Temp\\ipykernel_1732\\2847174398.py\u001b[0m in \u001b[0;36m<module>\u001b[1;34m\u001b[0m\n\u001b[0;32m      7\u001b[0m \u001b[0md\u001b[0m\u001b[1;33m=\u001b[0m\u001b[0mb\u001b[0m\u001b[1;33m**\u001b[0m\u001b[1;36m2\u001b[0m\u001b[1;33m-\u001b[0m\u001b[1;36m4\u001b[0m\u001b[1;33m*\u001b[0m\u001b[0ma\u001b[0m\u001b[1;33m*\u001b[0m\u001b[0mc\u001b[0m\u001b[1;33m\u001b[0m\u001b[1;33m\u001b[0m\u001b[0m\n\u001b[0;32m      8\u001b[0m \u001b[1;33m\u001b[0m\u001b[0m\n\u001b[1;32m----> 9\u001b[1;33m \u001b[0mq1\u001b[0m\u001b[1;33m=\u001b[0m\u001b[1;33m-\u001b[0m\u001b[0mb\u001b[0m\u001b[1;33m+\u001b[0m\u001b[0msqrt\u001b[0m\u001b[1;33m(\u001b[0m\u001b[0md\u001b[0m\u001b[1;33m)\u001b[0m\u001b[1;33m/\u001b[0m\u001b[1;36m2\u001b[0m\u001b[1;33m*\u001b[0m\u001b[0ma\u001b[0m\u001b[1;33m\u001b[0m\u001b[1;33m\u001b[0m\u001b[0m\n\u001b[0m\u001b[0;32m     10\u001b[0m \u001b[0mq2\u001b[0m\u001b[1;33m=\u001b[0m\u001b[1;33m-\u001b[0m\u001b[0mb\u001b[0m\u001b[1;33m-\u001b[0m\u001b[0msqrt\u001b[0m\u001b[1;33m(\u001b[0m\u001b[0md\u001b[0m\u001b[1;33m)\u001b[0m\u001b[1;33m/\u001b[0m\u001b[1;36m2\u001b[0m\u001b[1;33m*\u001b[0m\u001b[0ma\u001b[0m\u001b[1;33m\u001b[0m\u001b[1;33m\u001b[0m\u001b[0m\n",
      "\u001b[1;31mNameError\u001b[0m: name 'sqrt' is not defined"
     ]
    }
   ],
   "source": [
    "x=int(input('Enter first num'))\n",
    "y=int(input('Enter second num'))\n",
    "z=int(input('Enter third num'))\n",
    "a=5\n",
    "b=2\n",
    "c=4\n",
    "d=b**2-4*a*c\n",
    "\n",
    "q1=-b+sqrt(d)/2*a\n",
    "q2=-b-sqrt(d)/2*a"
   ]
  },
  {
   "cell_type": "markdown",
   "id": "57e7f232",
   "metadata": {},
   "source": [
    "# 6.Respective days of the week"
   ]
  },
  {
   "cell_type": "code",
   "execution_count": 2,
   "id": "6ec09eff",
   "metadata": {},
   "outputs": [
    {
     "name": "stdout",
     "output_type": "stream",
     "text": [
      "Enter the respective day of the week0\n",
      "Sunday\n"
     ]
    }
   ],
   "source": [
    "w=int(input('Enter the respective day of the week'))\n",
    "if w>=1:\n",
    "    print('Monday')\n",
    "elif w==2:\n",
    "    print('Tuesday')\n",
    "elif w==3:\n",
    "    print('Wednesday')\n",
    "elif w==4:\n",
    "    print('Thursday')\n",
    "elif w==5:\n",
    "    print('Friday')\n",
    "elif w==6:\n",
    "    print('Saturday')\n",
    "else:\n",
    "    print('Sunday')\n",
    "    "
   ]
  },
  {
   "cell_type": "markdown",
   "id": "1ee986f7",
   "metadata": {},
   "source": [
    "# 1 . Swap two numbers"
   ]
  },
  {
   "cell_type": "code",
   "execution_count": 3,
   "id": "75ef1a5f",
   "metadata": {},
   "outputs": [
    {
     "name": "stdout",
     "output_type": "stream",
     "text": [
      "Enter num1:10\n",
      "Enter num2:12\n",
      "The value of num1 before swap: 10\n",
      "The value of num2 before swap: 12\n",
      "The value of num1 after swap: 12\n",
      "The value of num2 after swap: 10\n"
     ]
    }
   ],
   "source": [
    "num1 = int(input(\"Enter num1:\"))\n",
    "num2 = int(input(\"Enter num2:\"))\n",
    "\n",
    "print(\"The value of num1 before swap:\",num1)\n",
    "print(\"The value of num2 before swap:\",num2)\n",
    "\n",
    "temp = num1\n",
    "num1 = num2\n",
    "num2 = temp\n",
    "\n",
    "print(\"The value of num1 after swap:\",num1)\n",
    "print(\"The value of num2 after swap:\",num2)"
   ]
  },
  {
   "cell_type": "markdown",
   "id": "6ec0bcf5",
   "metadata": {},
   "source": [
    "# 2.Swap two numbers without third variable"
   ]
  },
  {
   "cell_type": "code",
   "execution_count": 4,
   "id": "7c23296c",
   "metadata": {
    "scrolled": true
   },
   "outputs": [
    {
     "name": "stdout",
     "output_type": "stream",
     "text": [
      "Enter number12\n",
      "Enter number14\n",
      "The value of num1 before swap: 12\n",
      "The value of num2 before swap: 14\n",
      "The value of num1 after swap: 40\n",
      "The value of num2 after swap: 66\n"
     ]
    }
   ],
   "source": [
    "num1=int(input(\"Enter number\"))\n",
    "num2=int(input(\"Enter number\"))\n",
    "print(\"The value of num1 before swap:\",num1)\n",
    "print(\"The value of num2 before swap:\",num2)\n",
    "\n",
    "temp = num1+num2\n",
    "num1 = num2+temp\n",
    "num2 = temp+num1\n",
    "\n",
    "print(\"The value of num1 after swap:\",num1)\n",
    "print(\"The value of num2 after swap:\",num2)"
   ]
  },
  {
   "cell_type": "markdown",
   "id": "015a77d0",
   "metadata": {},
   "source": [
    "### 3.s.i"
   ]
  },
  {
   "cell_type": "code",
   "execution_count": 8,
   "id": "3ce99824",
   "metadata": {},
   "outputs": [
    {
     "name": "stdout",
     "output_type": "stream",
     "text": [
      "Enter the first num100\n",
      "Enter the second num10\n",
      "Enter the third num2\n",
      "Simple Interest 20.0\n"
     ]
    }
   ],
   "source": [
    "p=int(input('Enter the first num'))\n",
    "r=int(input('Enter the second num'))\n",
    "t=int(input('Enter the third num'))\n",
    "si=p*r*t/100\n",
    "print('Simple Interest',si)"
   ]
  },
  {
   "cell_type": "markdown",
   "id": "cdd108fa",
   "metadata": {},
   "source": [
    "# 4.avg. of five numbers"
   ]
  },
  {
   "cell_type": "code",
   "execution_count": 10,
   "id": "e0276e4c",
   "metadata": {
    "scrolled": true
   },
   "outputs": [
    {
     "name": "stdout",
     "output_type": "stream",
     "text": [
      "Enter the first num5\n",
      "Enter the second num10\n",
      "Enter the third num15\n",
      "Enter the fourth num20\n",
      "Enter the fifth num25\n",
      "The average of five numbers 70.0\n"
     ]
    }
   ],
   "source": [
    "num1=int(input('Enter the first num'))\n",
    "num2=int(input('Enter the second num'))\n",
    "num3=int(input('Enter the third num'))\n",
    "num4=int(input('Enter the fourth num'))\n",
    "num5=int(input('Enter the fifth num'))\n",
    "avg=num1+num2+num3+num3+num4+num5/5\n",
    "print('The average of five numbers',avg)"
   ]
  },
  {
   "cell_type": "markdown",
   "id": "ab011565",
   "metadata": {},
   "source": [
    "# 5.Discriminant of quadratic equation"
   ]
  },
  {
   "cell_type": "code",
   "execution_count": 12,
   "id": "a98d082b",
   "metadata": {
    "scrolled": true
   },
   "outputs": [
    {
     "name": "stdout",
     "output_type": "stream",
     "text": [
      "Enter the num15\n",
      "Enter the num2\n",
      "Enter the num10\n",
      "Discriminant of quadratic equation 604\n"
     ]
    }
   ],
   "source": [
    "x=int(input('Enter the num'))\n",
    "y=int(input('Enter the num'))\n",
    "z=int(input('Enter the num'))\n",
    "a=15\n",
    "b=2\n",
    "c=10\n",
    "d=b**2+4*a*c\n",
    "print('Discriminant of quadratic equation',d)"
   ]
  },
  {
   "cell_type": "markdown",
   "id": "928fb67a",
   "metadata": {},
   "source": [
    "### 2. Arithmetic operator"
   ]
  },
  {
   "cell_type": "code",
   "execution_count": 1,
   "id": "cae893fe",
   "metadata": {
    "scrolled": true
   },
   "outputs": [
    {
     "name": "stdout",
     "output_type": "stream",
     "text": [
      "Enter the first num10\n",
      "Enter the second num15\n",
      "The addition is 25\n"
     ]
    }
   ],
   "source": [
    "num1=int(input('Enter the first num'))\n",
    "num2=int(input('Enter the second num'))\n",
    "add=num1+num2\n",
    "print('The addition is', add)"
   ]
  },
  {
   "cell_type": "code",
   "execution_count": 3,
   "id": "448ca416",
   "metadata": {},
   "outputs": [
    {
     "name": "stdout",
     "output_type": "stream",
     "text": [
      "Enter the first num15\n",
      "Enter the second num10\n",
      "The subtraction is 5\n"
     ]
    }
   ],
   "source": [
    "num1=int(input('Enter the first num'))\n",
    "num2=int(input('Enter the second num'))\n",
    "sub=num1-num2\n",
    "print('The subtraction is',sub)"
   ]
  },
  {
   "cell_type": "code",
   "execution_count": 4,
   "id": "204a1eab",
   "metadata": {},
   "outputs": [
    {
     "name": "stdout",
     "output_type": "stream",
     "text": [
      "Enter the first num10\n",
      "Enter the second num15\n",
      "The multiplication is 150\n"
     ]
    }
   ],
   "source": [
    "num1=int(input('Enter the first num'))\n",
    "num2=int(input('Enter the second num'))\n",
    "mul=num1*num2\n",
    "print('The multiplication is', mul)"
   ]
  },
  {
   "cell_type": "code",
   "execution_count": 5,
   "id": "b6f36de5",
   "metadata": {},
   "outputs": [
    {
     "name": "stdout",
     "output_type": "stream",
     "text": [
      "Enter the first num100\n",
      "Enter the second num10\n",
      "The division is 10.0\n"
     ]
    }
   ],
   "source": [
    "num1=int(input('Enter the first num'))\n",
    "num2=int(input('Enter the second num'))\n",
    "div=num1/num2\n",
    "print('The division is',div)"
   ]
  },
  {
   "cell_type": "code",
   "execution_count": 6,
   "id": "8759bc37",
   "metadata": {},
   "outputs": [
    {
     "name": "stdout",
     "output_type": "stream",
     "text": [
      "Enter the first num100\n",
      "Enter the second num9\n",
      "The modulus is 1\n"
     ]
    }
   ],
   "source": [
    "num1=int(input('Enter the first num'))\n",
    "num2=int(input('Enter the second num'))\n",
    "mod=num1%num2\n",
    "print('The modulus is',mod)"
   ]
  },
  {
   "cell_type": "code",
   "execution_count": 7,
   "id": "4f98901a",
   "metadata": {},
   "outputs": [
    {
     "name": "stdout",
     "output_type": "stream",
     "text": [
      "Enter the first num10\n",
      "Enter the second num11\n",
      "The exponent is 100000000000\n"
     ]
    }
   ],
   "source": [
    "num1=int(input('Enter the first num'))\n",
    "num2=int(input('Enter the second num'))\n",
    "exp=num1**num2\n",
    "print('The exponent is',exp)"
   ]
  },
  {
   "cell_type": "markdown",
   "id": "f7292469",
   "metadata": {},
   "source": [
    "# 1.introduction"
   ]
  },
  {
   "cell_type": "code",
   "execution_count": 10,
   "id": "76ca83d9",
   "metadata": {
    "scrolled": true
   },
   "outputs": [
    {
     "name": "stdout",
     "output_type": "stream",
     "text": [
      "Enter your nameSayon dey\n",
      "Enter your age22\n",
      "Enter your addresskolkata, west bengal\n",
      "Your details are\n",
      "Sayon dey\n",
      "22\n",
      "kolkata, west bengal\n"
     ]
    }
   ],
   "source": [
    "name=input('Enter your name')\n",
    "age=input('Enter your age')\n",
    "address=input('Enter your address')\n",
    "print('Your details are',name,age,address,sep=\"\\n\")"
   ]
  },
  {
   "cell_type": "markdown",
   "id": "a237e767",
   "metadata": {},
   "source": [
    "# 3.Power of a number"
   ]
  },
  {
   "cell_type": "code",
   "execution_count": 1,
   "id": "0ae7ebeb",
   "metadata": {},
   "outputs": [
    {
     "name": "stdout",
     "output_type": "stream",
     "text": [
      "Enter your number10\n",
      "Enter your number2\n",
      "Power of a number 100\n"
     ]
    }
   ],
   "source": [
    "num1=int(input('Enter your number'))\n",
    "num2=int(input('Enter your number'))\n",
    "exp=num1**num2\n",
    "print('Power of a number',exp)"
   ]
  },
  {
   "cell_type": "markdown",
   "id": "2e2d2ae4",
   "metadata": {},
   "source": [
    "#### 4.Python_Version"
   ]
  },
  {
   "cell_type": "code",
   "execution_count": 5,
   "id": "b37254b7",
   "metadata": {},
   "outputs": [
    {
     "name": "stdout",
     "output_type": "stream",
     "text": [
      "The python version is 3.9.13\n"
     ]
    }
   ],
   "source": [
    "from platform import python_version\n",
    "ver=python_version()\n",
    "print('The python version is',ver)"
   ]
  },
  {
   "cell_type": "markdown",
   "id": "0793997c",
   "metadata": {},
   "source": [
    "# 1.Shapes"
   ]
  },
  {
   "cell_type": "code",
   "execution_count": 6,
   "id": "77d5f012",
   "metadata": {},
   "outputs": [
    {
     "name": "stdout",
     "output_type": "stream",
     "text": [
      "Enter your length25\n",
      "Enter your breadth50\n",
      "Area of a rectangle 1250\n"
     ]
    }
   ],
   "source": [
    "length=int(input('Enter your length'))\n",
    "breadth=int(input('Enter your breadth'))\n",
    "area=length*breadth\n",
    "print('Area of a rectangle',area)"
   ]
  },
  {
   "cell_type": "code",
   "execution_count": 7,
   "id": "73695419",
   "metadata": {},
   "outputs": [
    {
     "name": "stdout",
     "output_type": "stream",
     "text": [
      "Enter your num75\n",
      "area of a square 5625\n"
     ]
    }
   ],
   "source": [
    "num1=int(input('Enter your num'))\n",
    "Area=num1**2\n",
    "print('area of a square',Area)"
   ]
  },
  {
   "cell_type": "code",
   "execution_count": 8,
   "id": "a2c370e3",
   "metadata": {},
   "outputs": [
    {
     "name": "stdout",
     "output_type": "stream",
     "text": [
      "Enter your base13\n",
      "Enter your heigth17\n",
      "Area of triangle 110.5\n"
     ]
    }
   ],
   "source": [
    "base=int(input('Enter your base'))\n",
    "heigth=int(input('Enter your heigth'))\n",
    "area=1/2*base*heigth\n",
    "print('Area of triangle',area)"
   ]
  },
  {
   "cell_type": "code",
   "execution_count": 11,
   "id": "ef2181f0",
   "metadata": {
    "scrolled": true
   },
   "outputs": [
    {
     "name": "stdout",
     "output_type": "stream",
     "text": [
      "Enter your radius7\n",
      "Enter your area 153.86\n"
     ]
    }
   ],
   "source": [
    "radius=float(input('Enter your radius'))\n",
    "pi=3.14\n",
    "area=pi*radius**2\n",
    "print('Enter your area',area)"
   ]
  },
  {
   "cell_type": "markdown",
   "id": "b63874f2",
   "metadata": {},
   "source": [
    "# 2.Basic Salary"
   ]
  },
  {
   "cell_type": "code",
   "execution_count": 1,
   "id": "bcdf397d",
   "metadata": {
    "scrolled": true
   },
   "outputs": [
    {
     "name": "stdout",
     "output_type": "stream",
     "text": [
      "Enter your basic salary15500\n",
      "enter your dearness allowance 775.0\n",
      "enter your human resource allowance 1085.0\n",
      "enter your provident fund 465.0\n"
     ]
    }
   ],
   "source": [
    "salary=int(input('Enter your basic salary'))\n",
    "a=5/100*salary\n",
    "print('enter your dearness allowance',a)\n",
    "b=7/100*salary\n",
    "print('enter your human resource allowance',b)\n",
    "c=3/100*salary\n",
    "print('enter your provident fund',c)"
   ]
  },
  {
   "cell_type": "code",
   "execution_count": null,
   "id": "e85b7b78",
   "metadata": {},
   "outputs": [],
   "source": []
  }
 ],
 "metadata": {
  "kernelspec": {
   "display_name": "Python 3 (ipykernel)",
   "language": "python",
   "name": "python3"
  },
  "language_info": {
   "codemirror_mode": {
    "name": "ipython",
    "version": 3
   },
   "file_extension": ".py",
   "mimetype": "text/x-python",
   "name": "python",
   "nbconvert_exporter": "python",
   "pygments_lexer": "ipython3",
   "version": "3.9.13"
  }
 },
 "nbformat": 4,
 "nbformat_minor": 5
}
