{
 "cells": [
  {
   "cell_type": "code",
   "execution_count": 3,
   "id": "1bca5db0",
   "metadata": {},
   "outputs": [
    {
     "name": "stdout",
     "output_type": "stream",
     "text": [
      "Enter the first number: 15\n",
      "Enter the second number: 17\n",
      "Enter your choice from [1-5]: 3\n",
      "Mul = 255\n"
     ]
    }
   ],
   "source": [
    "def add(num1, num2):\n",
    "    print('Sum =', num1+num2)\n",
    "\n",
    "def sub(num1, num2):\n",
    "    print('Sub =',num1-num2)\n",
    "\n",
    "def mul(num1, num2):\n",
    "    print('Mul =',num1*num2)\n",
    "\n",
    "def div(num1, num2):\n",
    "    print('Div =',num1/num2)\n",
    "\n",
    "def mod(num1, num2):\n",
    "    print('Mod =',num1%num2)\n",
    "\n",
    "num1 = int(input('Enter the first number: '))\n",
    "num2 = int(input('Enter the second number: '))\n",
    "opt = int(input('Enter your choice from [1-5]: '))\n",
    "\n",
    "if opt == 1:\n",
    "    add(num1, num2)\n",
    "elif opt == 2:\n",
    "    sub(num1, num2)\n",
    "elif opt == 3:\n",
    "    mul(num1, num2)\n",
    "elif opt == 4:\n",
    "    div(num1, num2)\n",
    "elif opt == 5:\n",
    "    mod(num1, num2)\n",
    "else:\n",
    "    print('Invalid choice.')\n"
   ]
  },
  {
   "cell_type": "markdown",
   "id": "4ca96672",
   "metadata": {},
   "source": [
    "@ 3.Area"
   ]
  },
  {
   "cell_type": "code",
   "execution_count": 5,
   "id": "4d12170f",
   "metadata": {},
   "outputs": [
    {
     "name": "stdout",
     "output_type": "stream",
     "text": [
      "Enter the first number: 5\n",
      "Enter the second number: 9\n",
      "Enter your choice from [1-4]: 4\n",
      "Area of triangle 22.5\n"
     ]
    }
   ],
   "source": [
    "def aos(num1):\n",
    "    print('Area of square',num1**2)\n",
    "def aor(num1,num2):\n",
    "    print('Area of rectangle',num1+num)\n",
    "def aoc(num1):\n",
    "    print('Area of circle',3.14*num1*num1)\n",
    "def aot(num1,num2):\n",
    "    print('Area of triangle',1/2*num1*num2)\n",
    "    \n",
    "num1 = int(input('Enter the first number: '))\n",
    "num2 = int(input('Enter the second number: '))\n",
    "opt = int(input('Enter your choice from [1-4]: '))\n",
    "if opt == 1:\n",
    "    aos(num1)\n",
    "elif opt == 2:\n",
    "    aor(num1, num2)\n",
    "elif opt == 3:\n",
    "    aoc(num1, num1)\n",
    "elif opt == 4:\n",
    "    aot(num1, num2)\n",
    "else:\n",
    "    print('Invalid choice.')"
   ]
  },
  {
   "cell_type": "markdown",
   "id": "0e32ffa0",
   "metadata": {},
   "source": [
    "# 2.perimeter"
   ]
  },
  {
   "cell_type": "code",
   "execution_count": 9,
   "id": "72543a32",
   "metadata": {},
   "outputs": [
    {
     "name": "stdout",
     "output_type": "stream",
     "text": [
      "Invalid choice.\n"
     ]
    }
   ],
   "source": [
    "def pos(num1):\n",
    "    print('The perimeter of a square',4*num1)\n",
    "def por(num1,num2):\n",
    "    print('The perimeter of a rectangle',2*(num1+num2))\n",
    "def poc(num1):\n",
    "    print('The perimeter of a circle',2*3.14*num1)\n",
    "def pot(num1,num2,num3):\n",
    "    print('The perimeter of a triangle',num1+num2+num3)\n",
    "    num1=int(input('Enter the value'))\n",
    "    num2=int(input('Enter the value'))\n",
    "    opt = int(input('Enter your choice from [1-4]: '))\n",
    "if opt == 1:\n",
    "    pos(num1)\n",
    "elif opt == 2:\n",
    "    por(num1, num2)\n",
    "elif opt == 3:\n",
    "    poc(num1)\n",
    "else:\n",
    "    print('Invalid choice.')"
   ]
  },
  {
   "cell_type": "code",
   "execution_count": 10,
   "id": "b6e3507a",
   "metadata": {},
   "outputs": [
    {
     "name": "stdout",
     "output_type": "stream",
     "text": [
      "Enter the value of num1: 10\n",
      "Enter the value of num2: 12\n",
      "Enter your choice from [1-4]: 2\n",
      "The perimeter of a rectangle 44\n"
     ]
    }
   ],
   "source": [
    "def pos(num1):\n",
    "    print('The perimeter of a square', 4*num1)\n",
    "\n",
    "def por(num1, num2):\n",
    "    print('The perimeter of a rectangle', 2*(num1+num2))\n",
    "\n",
    "def poc(num1):\n",
    "    print('The perimeter of a circle', 2*3.14*num1)\n",
    "\n",
    "def pot(num1, num2, num3):\n",
    "    print('The perimeter of a triangle', num1+num2+num3)\n",
    "\n",
    "num1 = int(input('Enter the value of num1: '))\n",
    "num2 = int(input('Enter the value of num2: '))\n",
    "opt = int(input('Enter your choice from [1-4]: '))\n",
    "\n",
    "if opt == 1:\n",
    "    pos(num1)\n",
    "elif opt == 2:\n",
    "    por(num1, num2)\n",
    "elif opt == 3:\n",
    "    poc(num1)\n",
    "elif opt == 4:\n",
    "    num3 = int(input('Enter the value of num3: '))\n",
    "    pot(num1, num2, num3)\n",
    "else:\n",
    "    print('Invalid choice.')\n"
   ]
  },
  {
   "cell_type": "markdown",
   "id": "a0f18c4e",
   "metadata": {},
   "source": [
    "# 4.Volume "
   ]
  },
  {
   "cell_type": "code",
   "execution_count": 12,
   "id": "fa2a07f6",
   "metadata": {},
   "outputs": [
    {
     "name": "stdout",
     "output_type": "stream",
     "text": [
      "Enter the value of num1: 2\n",
      "Enter the value of num2: 4\n",
      "Enter your choice from [1-4]: 4\n",
      "The vollume of cone is 16.746666666666666\n"
     ]
    }
   ],
   "source": [
    "def vos(num1):\n",
    "    print('The volume of a sphere',4/3*3.14*num1*num1*num1)\n",
    "def voc(num1,num2):\n",
    "    print('The volume of a cylinder',3.14*num1*num1*num2)\n",
    "def voc(num1):\n",
    "    print('The volume of cube',num1*num1*num1)\n",
    "def voc(num1,num2):\n",
    "    print('The vollume of cone is',3.14*num1*num1*num2/3)\n",
    "num1 = int(input('Enter the value of num1: '))\n",
    "num2 = int(input('Enter the value of num2: '))\n",
    "opt = int(input('Enter your choice from [1-4]: '))\n",
    "\n",
    "if opt == 1:\n",
    "    vos(num1)\n",
    "elif opt == 2:\n",
    "    voc(num1, num2)\n",
    "elif opt == 3:\n",
    "    voc(num1)\n",
    "elif opt == 4:\n",
    "    voc(num1, num2)\n",
    "else:\n",
    "    print('Invalid choice.')\n"
   ]
  },
  {
   "cell_type": "code",
   "execution_count": null,
   "id": "973d99bd",
   "metadata": {},
   "outputs": [],
   "source": []
  }
 ],
 "metadata": {
  "kernelspec": {
   "display_name": "Python 3 (ipykernel)",
   "language": "python",
   "name": "python3"
  },
  "language_info": {
   "codemirror_mode": {
    "name": "ipython",
    "version": 3
   },
   "file_extension": ".py",
   "mimetype": "text/x-python",
   "name": "python",
   "nbconvert_exporter": "python",
   "pygments_lexer": "ipython3",
   "version": "3.9.13"
  }
 },
 "nbformat": 4,
 "nbformat_minor": 5
}
