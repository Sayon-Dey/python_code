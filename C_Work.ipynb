{
 "cells": [
  {
   "cell_type": "code",
   "execution_count": 21,
   "id": "a3b2651e",
   "metadata": {},
   "outputs": [],
   "source": [
    "\n",
    "class Circle:\n",
    "    def __init__(self, radius):\n",
    "        self.radius = radius\n",
    "        \n",
    "        \n",
    "    def show(self):\n",
    "        self.area = 3.14 * (self.radius ** 2)\n",
    "        print('Area',self.area)\n",
    "        \n",
    "    \n",
    "        self.circumference = 2 * 3.14 * self.radius\n",
    "        print('Circumference',self.circumference)\n"
   ]
  },
  {
   "cell_type": "code",
   "execution_count": 22,
   "id": "25bda478",
   "metadata": {
    "scrolled": true
   },
   "outputs": [
    {
     "name": "stdout",
     "output_type": "stream",
     "text": [
      "Area 78.5\n",
      "Circumference 31.400000000000002\n"
     ]
    }
   ],
   "source": [
    "a=Circle(5)\n",
    "a.show()"
   ]
  },
  {
   "cell_type": "markdown",
   "id": "f42c61b6",
   "metadata": {},
   "source": [
    "# 1"
   ]
  },
  {
   "cell_type": "code",
   "execution_count": 7,
   "id": "af7924a2",
   "metadata": {},
   "outputs": [],
   "source": [
    "class Rectangle:\n",
    "    def __init__(self,width,height):\n",
    "        self.width=width\n",
    "        self.height=height\n",
    "    def get(self):\n",
    "        self.area=(self.width*self.height)\n",
    "        print('Area=',self.area)\n",
    "        \n",
    "        self.perimeter=2*(self.width+self.height)\n",
    "        print('Perimeter=',self.perimeter)"
   ]
  },
  {
   "cell_type": "code",
   "execution_count": 8,
   "id": "39c9268b",
   "metadata": {
    "scrolled": true
   },
   "outputs": [
    {
     "name": "stdout",
     "output_type": "stream",
     "text": [
      "Area= 250\n",
      "Perimeter= 70\n"
     ]
    }
   ],
   "source": [
    "r=Rectangle(10,25)\n",
    "r.get()"
   ]
  },
  {
   "cell_type": "code",
   "execution_count": null,
   "id": "bbce39f7",
   "metadata": {},
   "outputs": [],
   "source": [
    "class Student:\n",
    "    def __init__(self,name,age):\n",
    "        self.name=name\n",
    "        self.age=age\n",
    "    def show(self):\n",
    "        print('Name=',self.name)\n",
    "        print('Age=', self.age)\n",
    "        \n",
    "class Grad(Student):\n",
    "    def __init__(self,name,age,grad):\n",
    "        Grad.__init__(self,name,age)\n",
    "        self.grad=grad\n",
    "    def get(self):\n",
    "        print('grad=',self.grad)\n",
    "        \n",
    "class Post_g(Grad):\n",
    "    def __init__(self,name,age,grad,pg):\n",
    "        Post_g.__init__(self,name,age,grad,pg)\n",
    "        self.pg=pg\n",
    "    def seen(self):\n",
    "        print('pg=',self.pg)\n",
    "        \n",
    "p=Post_g('sam',18,90,85)\n",
    "p.seen()\n",
    "        "
   ]
  },
  {
   "cell_type": "code",
   "execution_count": 7,
   "id": "c64ba827",
   "metadata": {},
   "outputs": [],
   "source": [
    "class Vehicle:\n",
    "    def __init__(self,model,year):\n",
    "        self.model=model\n",
    "        self.year=year\n",
    "    def start_the_engine(self):\n",
    "        print('Model=',self.model)\n",
    "        print('Year=',self.year)\n",
    "class Car(Vehicle):\n",
    "    def __init__(self, model, year, num_doors):\n",
    "        Vehicle.__init__(self, model, year)\n",
    "        self.num_doors = num_doors\n",
    "\n",
    "    def lock_doors(self):\n",
    "        print('Lock all doors', self.num_doors)\n",
    "\n",
    "            "
   ]
  },
  {
   "cell_type": "code",
   "execution_count": 8,
   "id": "96aabb90",
   "metadata": {
    "scrolled": true
   },
   "outputs": [
    {
     "name": "stdout",
     "output_type": "stream",
     "text": [
      "Model= Lamborghini\n",
      "Year= 2001\n",
      "Lock all doors 4\n"
     ]
    }
   ],
   "source": [
    "c=Car('Lamborghini',2001,4)\n",
    "c.start_the_engine()\n",
    "c.lock_doors()"
   ]
  },
  {
   "cell_type": "code",
   "execution_count": 11,
   "id": "958ac560",
   "metadata": {},
   "outputs": [
    {
     "name": "stdout",
     "output_type": "stream",
     "text": [
      "Area = 24\n",
      "Radius = 5\n",
      "Get the volume 12\n"
     ]
    }
   ],
   "source": [
    "class Cyclinder:\n",
    "    def __init__(self, area, radius):\n",
    "        self.area=area\n",
    "        self.radius=radius\n",
    "    def show(self):\n",
    "        print('Area=',self.area)\n",
    "        print('Radius=',self.radius)\n",
    "        \n",
    "class Circle(Cylinder):\n",
    "    def __init__(self,area,radius,height):\n",
    "        Cylinder.__init__(self,area,radius)\n",
    "        self.height=height\n",
    "    def get_volume(self):\n",
    "        print('Get the volume',self.height)\n",
    "        \n",
    "o=Circle(24,5,12)\n",
    "o.show()\n",
    "o.get_volume()"
   ]
  },
  {
   "cell_type": "markdown",
   "id": "2033a4bd",
   "metadata": {},
   "source": [
    "## 3.2"
   ]
  },
  {
   "cell_type": "code",
   "execution_count": 5,
   "id": "2dae0abb",
   "metadata": {},
   "outputs": [
    {
     "data": {
      "text/plain": [
       "942.0"
      ]
     },
     "execution_count": 5,
     "metadata": {},
     "output_type": "execute_result"
    }
   ],
   "source": [
    "class Circle:\n",
    "    def __init__(self, area, radius):\n",
    "        self.area=area\n",
    "        self.radius=radius\n",
    "    def show(self):\n",
    "        return 3.14*self.radius**2\n",
    "\n",
    "        \n",
    "class Cylinder(Circle):\n",
    "    def __init__(self,area,radius,height):\n",
    "        Circle.__init__(self,area,radius)\n",
    "        self.height=height\n",
    "    def get_volume(self):\n",
    "        \n",
    "        return self.show()*self.height\n",
    "        \n",
    "o=Cylinder(24,5,12)\n",
    "o.show()\n",
    "o.get_volume()"
   ]
  },
  {
   "cell_type": "markdown",
   "id": "e41b2388",
   "metadata": {},
   "source": [
    "## 1..2"
   ]
  },
  {
   "cell_type": "code",
   "execution_count": 4,
   "id": "b49959d7",
   "metadata": {},
   "outputs": [
    {
     "name": "stdout",
     "output_type": "stream",
     "text": [
      "Name= Ram\n",
      "Age= 18\n",
      "Gender= Male\n",
      "Employee_Id= 117\n"
     ]
    }
   ],
   "source": [
    "class Person:\n",
    "    def __init__(self,name,age,gender):\n",
    "        self.name=name\n",
    "        self.age=age\n",
    "        self.gender=gender\n",
    "    def display_employee_info(self):\n",
    "        print('Name=',self.name)\n",
    "        print('Age=',self.age)\n",
    "        print('Gender=',self.gender)\n",
    "        \n",
    "class Employee(Person):\n",
    "    def __init__(self,name,age,gender,employee_id):\n",
    "        Person.__init__(self,name,age,gender)\n",
    "        self.employee_id=employee_id\n",
    "    def display_employee_info(self):\n",
    "        Person.display_employee_info(self)\n",
    "        print('Employee_Id=',self.employee_id)\n",
    "        \n",
    "e=Employee('Ram',18,'Male',117)\n",
    "e.display_employee_info()\n",
    "        "
   ]
  },
  {
   "cell_type": "markdown",
   "id": "c54812f2",
   "metadata": {},
   "source": [
    "## 4.1"
   ]
  },
  {
   "cell_type": "code",
   "execution_count": 4,
   "id": "a141161e",
   "metadata": {},
   "outputs": [
    {
     "name": "stdout",
     "output_type": "stream",
     "text": [
      "Name Sayon\n",
      "Age 22\n",
      "gender Male\n"
     ]
    }
   ],
   "source": [
    "class Person:\n",
    "    def __init__(self,name,age,gender):\n",
    "        self.name=name\n",
    "        self.age=age\n",
    "        self.gender=gender\n",
    "    def Introduce(self):\n",
    "        print('Name',self.name)\n",
    "        print('Age',self.age)\n",
    "        print('gender',self.gender)\n",
    "        \n",
    "i=Person('Sayon',22,'Male')\n",
    "i.Introduce()"
   ]
  },
  {
   "cell_type": "markdown",
   "id": "0eaa39b6",
   "metadata": {},
   "source": [
    "# 5.1"
   ]
  },
  {
   "cell_type": "code",
   "execution_count": 5,
   "id": "c698b81c",
   "metadata": {},
   "outputs": [
    {
     "name": "stdout",
     "output_type": "stream",
     "text": [
      "Make= ASC\n",
      "Model= b4u-257\n",
      "Year= 2008\n"
     ]
    }
   ],
   "source": [
    "class Vehicle:\n",
    "    def __init__(self,make,model,year):\n",
    "        self.make=make\n",
    "        self.model=model\n",
    "        self.year=year\n",
    "    def start_the_engine(self):\n",
    "        print('Make=',self.make)\n",
    "        print('Model=',self.model)\n",
    "        print('Year=',self.year)\n",
    "        \n",
    "v=Vehicle('ASC','b4u-257',2008)\n",
    "v.start_the_engine()"
   ]
  },
  {
   "cell_type": "markdown",
   "id": "795e4779",
   "metadata": {},
   "source": [
    "# 3.1"
   ]
  },
  {
   "cell_type": "code",
   "execution_count": 2,
   "id": "2a27909c",
   "metadata": {},
   "outputs": [
    {
     "name": "stdout",
     "output_type": "stream",
     "text": [
      "Amount balance shown: 11550.0\n"
     ]
    }
   ],
   "source": [
    "class BankAccount:\n",
    "    def __init__(self, balance=0, interest_rate=0.01):\n",
    "        self.balance = balance\n",
    "        self.interest_rate = interest_rate\n",
    "    \n",
    "    def deposit(self, amount):\n",
    "        self.balance += amount\n",
    "    \n",
    "    def withdraw(self, amount):\n",
    "        if amount > self.balance:\n",
    "            print(\"Insufficient balance.\")\n",
    "        else:\n",
    "            self.balance -= amount\n",
    "    \n",
    "    def calculate_interest(self):\n",
    "        interest = self.balance * self.interest_rate\n",
    "        self.balance += interest\n",
    "        print('Amount balance shown:',self.balance)\n",
    "        \n",
    "        \n",
    "b=BankAccount(10000,0.10)\n",
    "b.deposit(1000)\n",
    "b.withdraw(500)\n",
    "b.calculate_interest()\n"
   ]
  },
  {
   "cell_type": "code",
   "execution_count": null,
   "id": "1225e7cb",
   "metadata": {},
   "outputs": [],
   "source": []
  }
 ],
 "metadata": {
  "kernelspec": {
   "display_name": "Python 3 (ipykernel)",
   "language": "python",
   "name": "python3"
  },
  "language_info": {
   "codemirror_mode": {
    "name": "ipython",
    "version": 3
   },
   "file_extension": ".py",
   "mimetype": "text/x-python",
   "name": "python",
   "nbconvert_exporter": "python",
   "pygments_lexer": "ipython3",
   "version": "3.9.13"
  }
 },
 "nbformat": 4,
 "nbformat_minor": 5
}
