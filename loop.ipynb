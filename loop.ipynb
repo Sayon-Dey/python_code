{
 "cells": [
  {
   "cell_type": "code",
   "execution_count": 1,
   "id": "c12bb21f",
   "metadata": {},
   "outputs": [
    {
     "name": "stdout",
     "output_type": "stream",
     "text": [
      "Hello python\n",
      "Hello python\n",
      "Hello python\n",
      "Hello python\n",
      "Hello python\n",
      "Hello python\n",
      "Hello python\n",
      "Hello python\n",
      "Hello python\n",
      "Hello python\n"
     ]
    }
   ],
   "source": [
    "# 1.1\n",
    "for i in range(10):\n",
    "    print('Hello python')"
   ]
  },
  {
   "cell_type": "markdown",
   "id": "6cac57a7",
   "metadata": {},
   "source": [
    "# 2.1"
   ]
  },
  {
   "cell_type": "code",
   "execution_count": 6,
   "id": "32b37527",
   "metadata": {
    "scrolled": false
   },
   "outputs": [
    {
     "name": "stdout",
     "output_type": "stream",
     "text": [
      "1\n",
      "2\n",
      "3\n",
      "4\n",
      "5\n",
      "6\n",
      "7\n",
      "8\n",
      "9\n",
      "10\n"
     ]
    }
   ],
   "source": [
    "for i in range(1,11):\n",
    "    print(i)"
   ]
  },
  {
   "cell_type": "markdown",
   "id": "c99daf81",
   "metadata": {},
   "source": [
    "# 3.1"
   ]
  },
  {
   "cell_type": "code",
   "execution_count": 12,
   "id": "b4305c2d",
   "metadata": {},
   "outputs": [
    {
     "name": "stdout",
     "output_type": "stream",
     "text": [
      "the sum of fist number is 55\n"
     ]
    }
   ],
   "source": [
    "sum=0\n",
    "for i in range(1,11):\n",
    "    sum+=i\n",
    "print('the sum of fist number is',sum)\n"
   ]
  },
  {
   "cell_type": "markdown",
   "id": "3374e32e",
   "metadata": {},
   "source": [
    "# 4.1"
   ]
  },
  {
   "cell_type": "code",
   "execution_count": 17,
   "id": "33e95d90",
   "metadata": {},
   "outputs": [
    {
     "name": "stdout",
     "output_type": "stream",
     "text": [
      "Enter the value15\n",
      "The list of n numbers from 1 to 15\n"
     ]
    }
   ],
   "source": [
    "x=int(input('Enter the value'))\n",
    "print(\"The list of n numbers from 1 to\",x)\n",
    "for i in range(1,n+1):\n",
    "    print(i,end=' ')"
   ]
  },
  {
   "cell_type": "markdown",
   "id": "86c6ef75",
   "metadata": {},
   "source": [
    "# 5.1"
   ]
  },
  {
   "cell_type": "code",
   "execution_count": 20,
   "id": "b4b74030",
   "metadata": {},
   "outputs": [
    {
     "name": "stdout",
     "output_type": "stream",
     "text": [
      "Please enter the number: 10\n",
      "55\n"
     ]
    }
   ],
   "source": [
    "num = int(input(\"Please enter the number: \"))\n",
    "\n",
    "sum = 0\n",
    "\n",
    "for value in range(1, num + 1):\n",
    "    sum = sum + value\n",
    "    \n",
    "print(sum)"
   ]
  },
  {
   "cell_type": "code",
   "execution_count": 22,
   "id": "878eac6d",
   "metadata": {
    "scrolled": true
   },
   "outputs": [
    {
     "name": "stdout",
     "output_type": "stream",
     "text": [
      "2\n",
      "4\n",
      "6\n",
      "8\n",
      "10\n",
      "12\n",
      "14\n",
      "16\n",
      "18\n",
      "20\n"
     ]
    }
   ],
   "source": [
    "for i in range(1,11):\n",
    "    print(2*i)"
   ]
  },
  {
   "cell_type": "markdown",
   "id": "cd2dd28e",
   "metadata": {},
   "source": [
    "# 7.1"
   ]
  },
  {
   "cell_type": "code",
   "execution_count": 24,
   "id": "8d9936af",
   "metadata": {},
   "outputs": [
    {
     "name": "stdout",
     "output_type": "stream",
     "text": [
      "enter the number for factorial.: 12\n",
      "The factorial of given number is.  479001600\n"
     ]
    }
   ],
   "source": [
    "n=int(input(\"enter the number for factorial.: \"))\n",
    "factorial = 1\n",
    "for i in range(1,n+1):\n",
    "    factorial *=i\n",
    "print(\"The factorial of given number is. \",factorial)"
   ]
  },
  {
   "cell_type": "markdown",
   "id": "ea1fa1aa",
   "metadata": {},
   "source": [
    "# 8.1"
   ]
  },
  {
   "cell_type": "code",
   "execution_count": 30,
   "id": "edf3ec04",
   "metadata": {},
   "outputs": [
    {
     "name": "stdout",
     "output_type": "stream",
     "text": [
      "2\n",
      "4\n",
      "6\n",
      "8\n",
      "10\n",
      "12\n",
      "14\n",
      "16\n",
      "18\n",
      "20\n",
      "22\n",
      "24\n",
      "26\n",
      "28\n",
      "30\n",
      "32\n",
      "34\n",
      "36\n",
      "38\n",
      "40\n",
      "42\n",
      "44\n",
      "46\n",
      "48\n",
      "50\n",
      "52\n",
      "54\n",
      "56\n",
      "58\n",
      "60\n",
      "62\n",
      "64\n",
      "66\n",
      "68\n",
      "70\n",
      "72\n",
      "74\n",
      "76\n",
      "78\n",
      "80\n",
      "82\n",
      "84\n",
      "86\n",
      "88\n",
      "90\n",
      "92\n",
      "94\n",
      "96\n",
      "98\n",
      "100\n"
     ]
    }
   ],
   "source": [
    "n =100\n",
    "for i in range(2,n+1,2):\n",
    "    print(i)"
   ]
  },
  {
   "cell_type": "markdown",
   "id": "d8c6ad1e",
   "metadata": {},
   "source": [
    "# 9.1"
   ]
  },
  {
   "cell_type": "code",
   "execution_count": 31,
   "id": "91338d05",
   "metadata": {
    "scrolled": false
   },
   "outputs": [
    {
     "name": "stdout",
     "output_type": "stream",
     "text": [
      "1\n",
      "3\n",
      "5\n",
      "7\n",
      "9\n",
      "11\n",
      "13\n",
      "15\n",
      "17\n",
      "19\n",
      "21\n",
      "23\n",
      "25\n",
      "27\n",
      "29\n",
      "31\n",
      "33\n",
      "35\n",
      "37\n",
      "39\n",
      "41\n",
      "43\n",
      "45\n",
      "47\n",
      "49\n",
      "51\n",
      "53\n",
      "55\n",
      "57\n",
      "59\n",
      "61\n",
      "63\n",
      "65\n",
      "67\n",
      "69\n",
      "71\n",
      "73\n",
      "75\n",
      "77\n",
      "79\n",
      "81\n",
      "83\n",
      "85\n",
      "87\n",
      "89\n",
      "91\n",
      "93\n",
      "95\n",
      "97\n",
      "99\n"
     ]
    }
   ],
   "source": [
    "n =100\n",
    "for i in range(1,n+1,2):\n",
    "    print(i)"
   ]
  },
  {
   "cell_type": "markdown",
   "id": "f8ee8ef3",
   "metadata": {},
   "source": [
    "# 2.2"
   ]
  },
  {
   "cell_type": "code",
   "execution_count": 35,
   "id": "3a68d952",
   "metadata": {},
   "outputs": [
    {
     "name": "stdout",
     "output_type": "stream",
     "text": [
      "The factors are 1\n",
      "The factors are 2\n",
      "The factors are 4\n",
      "The factors are 8\n",
      "The factors are 16\n",
      "The factors are 32\n"
     ]
    }
   ],
   "source": [
    "n=32\n",
    "for i in range(1,n+1):\n",
    "    if n%i==0:\n",
    "        print('The factors are',i)"
   ]
  },
  {
   "cell_type": "markdown",
   "id": "a54c27ca",
   "metadata": {},
   "source": [
    "# 7.2"
   ]
  },
  {
   "cell_type": "code",
   "execution_count": 5,
   "id": "459aa57e",
   "metadata": {
    "scrolled": true
   },
   "outputs": [
    {
     "name": "stdout",
     "output_type": "stream",
     "text": [
      "Enter the value11\n",
      "The reverse are 0\n",
      "The reverse are 1\n",
      "The reverse are 2\n",
      "The reverse are 3\n",
      "The reverse are 4\n",
      "The reverse are 5\n",
      "The reverse are 6\n",
      "The reverse are 7\n",
      "The reverse are 8\n"
     ]
    }
   ],
   "source": [
    "n = int(input('Enter the value'))\n",
    "for i in range(1,n-1):\n",
    "    reverse=i-1\n",
    "    print('The reverse are',reverse)"
   ]
  },
  {
   "cell_type": "markdown",
   "id": "ad69f581",
   "metadata": {},
   "source": [
    "## 4.2"
   ]
  },
  {
   "cell_type": "code",
   "execution_count": 8,
   "id": "8f62493e",
   "metadata": {
    "scrolled": true
   },
   "outputs": [
    {
     "name": "stdout",
     "output_type": "stream",
     "text": [
      "Enter the value69\n",
      "The reverse are 0\n",
      "The sum of the numbers 69\n",
      "The reverse are 1\n",
      "The sum of the numbers 70\n",
      "The reverse are 2\n",
      "The sum of the numbers 71\n",
      "The reverse are 3\n",
      "The sum of the numbers 72\n",
      "The reverse are 4\n",
      "The sum of the numbers 73\n",
      "The reverse are 5\n",
      "The sum of the numbers 74\n",
      "The reverse are 6\n",
      "The sum of the numbers 75\n",
      "The reverse are 7\n",
      "The sum of the numbers 76\n",
      "The reverse are 8\n",
      "The sum of the numbers 77\n",
      "The reverse are 9\n",
      "The sum of the numbers 78\n",
      "The reverse are 10\n",
      "The sum of the numbers 79\n",
      "The reverse are 11\n",
      "The sum of the numbers 80\n",
      "The reverse are 12\n",
      "The sum of the numbers 81\n",
      "The reverse are 13\n",
      "The sum of the numbers 82\n",
      "The reverse are 14\n",
      "The sum of the numbers 83\n",
      "The reverse are 15\n",
      "The sum of the numbers 84\n",
      "The reverse are 16\n",
      "The sum of the numbers 85\n",
      "The reverse are 17\n",
      "The sum of the numbers 86\n",
      "The reverse are 18\n",
      "The sum of the numbers 87\n",
      "The reverse are 19\n",
      "The sum of the numbers 88\n",
      "The reverse are 20\n",
      "The sum of the numbers 89\n",
      "The reverse are 21\n",
      "The sum of the numbers 90\n",
      "The reverse are 22\n",
      "The sum of the numbers 91\n",
      "The reverse are 23\n",
      "The sum of the numbers 92\n",
      "The reverse are 24\n",
      "The sum of the numbers 93\n",
      "The reverse are 25\n",
      "The sum of the numbers 94\n",
      "The reverse are 26\n",
      "The sum of the numbers 95\n",
      "The reverse are 27\n",
      "The sum of the numbers 96\n",
      "The reverse are 28\n",
      "The sum of the numbers 97\n",
      "The reverse are 29\n",
      "The sum of the numbers 98\n",
      "The reverse are 30\n",
      "The sum of the numbers 99\n",
      "The reverse are 31\n",
      "The sum of the numbers 100\n",
      "The reverse are 32\n",
      "The sum of the numbers 101\n",
      "The reverse are 33\n",
      "The sum of the numbers 102\n",
      "The reverse are 34\n",
      "The sum of the numbers 103\n",
      "The reverse are 35\n",
      "The sum of the numbers 104\n",
      "The reverse are 36\n",
      "The sum of the numbers 105\n",
      "The reverse are 37\n",
      "The sum of the numbers 106\n",
      "The reverse are 38\n",
      "The sum of the numbers 107\n",
      "The reverse are 39\n",
      "The sum of the numbers 108\n",
      "The reverse are 40\n",
      "The sum of the numbers 109\n",
      "The reverse are 41\n",
      "The sum of the numbers 110\n",
      "The reverse are 42\n",
      "The sum of the numbers 111\n",
      "The reverse are 43\n",
      "The sum of the numbers 112\n",
      "The reverse are 44\n",
      "The sum of the numbers 113\n",
      "The reverse are 45\n",
      "The sum of the numbers 114\n",
      "The reverse are 46\n",
      "The sum of the numbers 115\n",
      "The reverse are 47\n",
      "The sum of the numbers 116\n",
      "The reverse are 48\n",
      "The sum of the numbers 117\n",
      "The reverse are 49\n",
      "The sum of the numbers 118\n",
      "The reverse are 50\n",
      "The sum of the numbers 119\n",
      "The reverse are 51\n",
      "The sum of the numbers 120\n",
      "The reverse are 52\n",
      "The sum of the numbers 121\n",
      "The reverse are 53\n",
      "The sum of the numbers 122\n",
      "The reverse are 54\n",
      "The sum of the numbers 123\n",
      "The reverse are 55\n",
      "The sum of the numbers 124\n",
      "The reverse are 56\n",
      "The sum of the numbers 125\n",
      "The reverse are 57\n",
      "The sum of the numbers 126\n",
      "The reverse are 58\n",
      "The sum of the numbers 127\n",
      "The reverse are 59\n",
      "The sum of the numbers 128\n",
      "The reverse are 60\n",
      "The sum of the numbers 129\n",
      "The reverse are 61\n",
      "The sum of the numbers 130\n",
      "The reverse are 62\n",
      "The sum of the numbers 131\n",
      "The reverse are 63\n",
      "The sum of the numbers 132\n",
      "The reverse are 64\n",
      "The sum of the numbers 133\n",
      "The reverse are 65\n",
      "The sum of the numbers 134\n",
      "The reverse are 66\n",
      "The sum of the numbers 135\n"
     ]
    }
   ],
   "source": [
    "n = int(input('Enter the value'))\n",
    "for i in range(1,n-1):\n",
    "    reverse=i-1\n",
    "    print('The reverse are',reverse)\n",
    "    sum=n+reverse\n",
    "    print('The sum of the numbers',sum)"
   ]
  },
  {
   "cell_type": "markdown",
   "id": "78516f41",
   "metadata": {},
   "source": [
    "#8.2"
   ]
  },
  {
   "cell_type": "code",
   "execution_count": 12,
   "id": "fbff97f5",
   "metadata": {},
   "outputs": [
    {
     "name": "stdout",
     "output_type": "stream",
     "text": [
      "Enter a number4\n",
      "The cube of a number is 1\n",
      "The cube of a number is 8\n",
      "The cube of a number is 27\n",
      "The cube of a number is 64\n"
     ]
    }
   ],
   "source": [
    "number = int(input(\"Enter a number\"))\n",
    "\n",
    "for i in range(1, number+1):\n",
    "    cube = i**3  \n",
    "    print('The cube of a number is',cube)\n"
   ]
  },
  {
   "cell_type": "markdown",
   "id": "8f70efe0",
   "metadata": {},
   "source": [
    "# 1.3"
   ]
  },
  {
   "cell_type": "code",
   "execution_count": 1,
   "id": "45c3c2ba",
   "metadata": {},
   "outputs": [
    {
     "name": "stdout",
     "output_type": "stream",
     "text": [
      "Enter a number: 155\n",
      "The number of digits in the entered number is: 3\n"
     ]
    }
   ],
   "source": [
    "number = int(input(\"Enter a number: \"))\n",
    "count = 0\n",
    "\n",
    "while number != 0:\n",
    "    number //= 10\n",
    "    count += 1\n",
    "\n",
    "print(\"The number of digits in the entered number is:\", count)\n"
   ]
  },
  {
   "cell_type": "markdown",
   "id": "f3e1a69c",
   "metadata": {},
   "source": [
    "### 2.3"
   ]
  },
  {
   "cell_type": "code",
   "execution_count": 3,
   "id": "07842c46",
   "metadata": {},
   "outputs": [
    {
     "name": "stdout",
     "output_type": "stream",
     "text": [
      "Enter the number8\n",
      "0 1 1 2 3 5 8 13 "
     ]
    }
   ],
   "source": [
    "n = int(input(\"Enter the number\"))\n",
    "a, b = 0, 1\n",
    "for i in range(n):\n",
    "    print(a, end=\" \")\n",
    "    a, b = b, a + b"
   ]
  },
  {
   "cell_type": "code",
   "execution_count": 44,
   "id": "e096a57d",
   "metadata": {},
   "outputs": [
    {
     "name": "stdout",
     "output_type": "stream",
     "text": [
      "Enter the number8471\n",
      "It is not a armstrong number\n"
     ]
    }
   ],
   "source": [
    "i=int(input('Enter the number'))\n",
    "x=i\n",
    "sum=0\n",
    "while i<0:\n",
    "    sum=sum+(i%10)*(i%10)*(i%10)\n",
    "    i=i//10\n",
    "if x==sum:\n",
    "    print('It is a armstrong number')\n",
    "else:\n",
    "    print('It is not a armstrong number')"
   ]
  },
  {
   "cell_type": "code",
   "execution_count": 45,
   "id": "88e7d9bd",
   "metadata": {},
   "outputs": [
    {
     "name": "stdout",
     "output_type": "stream",
     "text": [
      "Enter the num161\n",
      "It is a palindrome\n"
     ]
    }
   ],
   "source": [
    "i=int(input('Enter the num'))\n",
    "x=i\n",
    "rev=0\n",
    "while i>0:\n",
    "    rev=(rev*10)+i%10\n",
    "    i=i//10\n",
    "if x==rev:\n",
    "    print('It is a palindrome')\n",
    "else:\n",
    "    print('It is not a palindrome')"
   ]
  },
  {
   "cell_type": "markdown",
   "id": "00145c69",
   "metadata": {},
   "source": [
    "# perfect number"
   ]
  },
  {
   "cell_type": "markdown",
   "id": "7ef10510",
   "metadata": {},
   "source": [
    "# write a python program to find those numbers which are divisible by 7 and multiple of 5"
   ]
  },
  {
   "cell_type": "code",
   "execution_count": 5,
   "id": "ec21335f",
   "metadata": {},
   "outputs": [
    {
     "name": "stdout",
     "output_type": "stream",
     "text": [
      "Enter the lower range:1000\n",
      "Enter the upper range:2000\n",
      "1015\n",
      "1050\n",
      "1085\n",
      "1120\n",
      "1155\n",
      "1190\n",
      "1225\n",
      "1260\n",
      "1295\n",
      "1330\n",
      "1365\n",
      "1400\n",
      "1435\n",
      "1470\n",
      "1505\n",
      "1540\n",
      "1575\n",
      "1610\n",
      "1645\n",
      "1680\n",
      "1715\n",
      "1750\n",
      "1785\n",
      "1820\n",
      "1855\n",
      "1890\n",
      "1925\n",
      "1960\n",
      "1995\n"
     ]
    }
   ],
   "source": [
    "x=int(input(\"Enter the lower range:\"))\n",
    "y=int(input(\"Enter the upper range:\"))\n",
    "for i in range (x,y+1):\n",
    "    if(i%7==0 and i%5==0):\n",
    "        print(i)"
   ]
  },
  {
   "cell_type": "markdown",
   "id": "4b1b52f1",
   "metadata": {},
   "source": [
    "# write a program to print the following number pattern"
   ]
  },
  {
   "cell_type": "code",
   "execution_count": 15,
   "id": "d02ce0f4",
   "metadata": {},
   "outputs": [
    {
     "name": "stdout",
     "output_type": "stream",
     "text": [
      "* * * * * \n",
      "* * * * * \n",
      "* * * * * \n",
      "* * * * * \n",
      "* * * * * \n"
     ]
    }
   ],
   "source": [
    "# b star\n",
    "\n",
    "for i in range(1,6):\n",
    "    for j in range(1,6):\n",
    "        if  j>=1:\n",
    "            print('*', end=' ')\n",
    "        else:\n",
    "            print(' ',end=' ')\n",
    "    print()"
   ]
  },
  {
   "cell_type": "code",
   "execution_count": 5,
   "id": "1aa37a80",
   "metadata": {},
   "outputs": [
    {
     "name": "stdout",
     "output_type": "stream",
     "text": [
      "* * * * * \n",
      "* * * * * \n",
      "* * * * * \n",
      "* * * * * \n",
      "* * * * * \n"
     ]
    }
   ],
   "source": [
    "n=5\n",
    "for i in range(n):\n",
    "    for j in range(n):\n",
    "        print('*',end=' ')\n",
    "    print()"
   ]
  },
  {
   "cell_type": "code",
   "execution_count": 16,
   "id": "8376d1d8",
   "metadata": {},
   "outputs": [
    {
     "name": "stdout",
     "output_type": "stream",
     "text": [
      "*    \n",
      "*    \n",
      "*    \n",
      "*    \n",
      "*    \n"
     ]
    }
   ],
   "source": [
    "# a\n",
    "\n",
    "for i in range(1,6):\n",
    "    for j in range(1,6):\n",
    "        if j<=1:\n",
    "            print('*', end='')\n",
    "        else:\n",
    "            print(' ', end='')\n",
    "    print()"
   ]
  },
  {
   "cell_type": "markdown",
   "id": "cabcca34",
   "metadata": {},
   "source": [
    "# c"
   ]
  },
  {
   "cell_type": "code",
   "execution_count": 37,
   "id": "31cfa2eb",
   "metadata": {},
   "outputs": [
    {
     "name": "stdout",
     "output_type": "stream",
     "text": [
      "Enter the num5\n",
      "*****\n",
      "****\n",
      "***\n",
      "**\n",
      "*\n"
     ]
    }
   ],
   "source": [
    "n=int(input('Enter the num'))\n",
    "for i in range(n,0,-1):\n",
    "    for j in range(1,i+1):\n",
    "        print('*',end='')\n",
    "    print()"
   ]
  },
  {
   "cell_type": "markdown",
   "id": "58b1e7f8",
   "metadata": {},
   "source": [
    "# e"
   ]
  },
  {
   "cell_type": "code",
   "execution_count": 15,
   "id": "3182772a",
   "metadata": {},
   "outputs": [
    {
     "name": "stdout",
     "output_type": "stream",
     "text": [
      "     *\n",
      "    **\n",
      "   ***\n",
      "  ****\n",
      " *****\n"
     ]
    }
   ],
   "source": [
    "n=5\n",
    "for i in range(n):\n",
    "    for j in range(i,n):\n",
    "        print('',end= ' ')    #Decreasing space\n",
    "    for j in range(i+1):\n",
    "        print('*',end='')     #Increasing star\n",
    "    print()"
   ]
  },
  {
   "cell_type": "markdown",
   "id": "b8c9dc43",
   "metadata": {},
   "source": [
    "# d"
   ]
  },
  {
   "cell_type": "code",
   "execution_count": 18,
   "id": "1a7aad21",
   "metadata": {
    "scrolled": false
   },
   "outputs": [
    {
     "name": "stdout",
     "output_type": "stream",
     "text": [
      " *****\n",
      "  ****\n",
      "   ***\n",
      "    **\n",
      "     *\n"
     ]
    }
   ],
   "source": [
    "n=5\n",
    "for i in range(n):\n",
    "    for j in range(i+1):\n",
    "        print('',end= ' ')    #increasing space\n",
    "    for j in range(i,n):\n",
    "        print('*',end='')     #decreasing star\n",
    "    print()"
   ]
  },
  {
   "cell_type": "markdown",
   "id": "383c9aa9",
   "metadata": {},
   "source": [
    "# a   Number"
   ]
  },
  {
   "cell_type": "code",
   "execution_count": 27,
   "id": "866cf957",
   "metadata": {},
   "outputs": [
    {
     "name": "stdout",
     "output_type": "stream",
     "text": [
      "Enter the value5\n",
      "1 \n",
      "1 2 \n",
      "1 2 3 \n",
      "1 2 3 4 \n",
      "1 2 3 4 5 \n"
     ]
    }
   ],
   "source": [
    "n=int(input('Enter the value'))\n",
    "for i in range(1,n+1):\n",
    "    for j in range(1,i+1):\n",
    "        print(j,end=' ')\n",
    "    print()"
   ]
  },
  {
   "cell_type": "code",
   "execution_count": 28,
   "id": "af5fc967",
   "metadata": {
    "scrolled": true
   },
   "outputs": [
    {
     "name": "stdout",
     "output_type": "stream",
     "text": [
      "0 \n",
      "0 1 \n",
      "0 1 2 \n",
      "0 1 2 3 \n",
      "0 1 2 3 4 \n"
     ]
    }
   ],
   "source": [
    "n=5\n",
    "s=5\n",
    "for i in range(n):\n",
    "    for j in range(i+1):\n",
    "        print(j,end=' ')\n",
    "        s-=1\n",
    "    print()\n"
   ]
  },
  {
   "cell_type": "code",
   "execution_count": 22,
   "id": "70fa742d",
   "metadata": {
    "scrolled": true
   },
   "outputs": [
    {
     "name": "stdout",
     "output_type": "stream",
     "text": [
      "Enter the value5\n",
      "\n",
      "1 \n",
      "2 3 \n",
      "4 5 6 \n",
      "7 8 9 10 \n"
     ]
    }
   ],
   "source": [
    "n=int(input('Enter the value'))\n",
    "s=1\n",
    "for i in range(n):\n",
    "    for j in range(i):\n",
    "        print(s,end=' ')\n",
    "        s+=1\n",
    "    print()"
   ]
  },
  {
   "cell_type": "markdown",
   "id": "2e00e0fe",
   "metadata": {},
   "source": [
    "# b"
   ]
  },
  {
   "cell_type": "code",
   "execution_count": 29,
   "id": "fe2f5886",
   "metadata": {
    "scrolled": false
   },
   "outputs": [
    {
     "name": "stdout",
     "output_type": "stream",
     "text": [
      "Enter the value5\n",
      "1 \n",
      "2 2 \n",
      "3 3 3 \n",
      "4 4 4 4 \n",
      "5 5 5 5 5 \n"
     ]
    }
   ],
   "source": [
    "n=int(input('Enter the value'))\n",
    "for i in range(1,n+1):\n",
    "    for j in range(1,i+1):\n",
    "        print(i,end=' ')\n",
    "    print()"
   ]
  },
  {
   "cell_type": "markdown",
   "id": "0c88cd4c",
   "metadata": {},
   "source": [
    "# d"
   ]
  },
  {
   "cell_type": "code",
   "execution_count": 36,
   "id": "2f818d28",
   "metadata": {},
   "outputs": [
    {
     "name": "stdout",
     "output_type": "stream",
     "text": [
      "1 2 3 4 5 \n",
      "1 2 3 4 \n",
      "1 2 3 \n",
      "1 2 \n",
      "1 \n"
     ]
    }
   ],
   "source": [
    "n=5\n",
    "for i in range(n,0,-1):\n",
    "    for j in range(1,i+1):\n",
    "        print(j,end=' ')\n",
    "    print()"
   ]
  },
  {
   "cell_type": "code",
   "execution_count": 38,
   "id": "d2e7ee56",
   "metadata": {
    "scrolled": true
   },
   "outputs": [
    {
     "name": "stdout",
     "output_type": "stream",
     "text": [
      "5 5 5 5 5 \n",
      "4 4 4 4 \n",
      "3 3 3 \n",
      "2 2 \n",
      "1 \n"
     ]
    }
   ],
   "source": [
    "n=5\n",
    "for i in range(n,0,-1):\n",
    "    for j in range(1,i+1):\n",
    "        print(i,end=' ')\n",
    "    print()"
   ]
  },
  {
   "cell_type": "markdown",
   "id": "f43a435c",
   "metadata": {},
   "source": [
    "# e"
   ]
  },
  {
   "cell_type": "code",
   "execution_count": 42,
   "id": "0f00a7ae",
   "metadata": {},
   "outputs": [
    {
     "name": "stdout",
     "output_type": "stream",
     "text": [
      "5 4 3 2 1 \n",
      "4 3 2 1 \n",
      "3 2 1 \n",
      "2 1 \n",
      "1 \n"
     ]
    }
   ],
   "source": [
    "n=5\n",
    "for i in range(n,0,-1):\n",
    "    for j in range(i,0,-1):\n",
    "        print(j,end=' ')\n",
    "    print()"
   ]
  },
  {
   "cell_type": "code",
   "execution_count": 47,
   "id": "957fea01",
   "metadata": {
    "scrolled": true
   },
   "outputs": [
    {
     "name": "stdout",
     "output_type": "stream",
     "text": [
      "Enter the value5\n",
      "5 4 3 2 1 \n",
      "4 3 2 1 \n",
      "3 2 1 \n",
      "2 1 \n",
      "1 \n"
     ]
    }
   ],
   "source": [
    "n=int(input('Enter the value'))\n",
    "for i in range(n,0,-1):\n",
    "    for j in range(i,0,-1):\n",
    "        print(j,end=' ')\n",
    "    print()"
   ]
  },
  {
   "cell_type": "markdown",
   "id": "ba2ea04f",
   "metadata": {},
   "source": [
    "# b alphabet"
   ]
  },
  {
   "cell_type": "code",
   "execution_count": 1,
   "id": "b03e9456",
   "metadata": {},
   "outputs": [
    {
     "name": "stdout",
     "output_type": "stream",
     "text": [
      "Enter the value5\n",
      "A \n",
      "B B \n",
      "C C C \n",
      "D D D D \n",
      "E E E E E \n"
     ]
    }
   ],
   "source": [
    "n=int(input('Enter the value'))\n",
    "for i in range(n):\n",
    "    for j in range(i+1):\n",
    "        print(chr(65+i) ,end=' ')\n",
    "    print()"
   ]
  },
  {
   "cell_type": "code",
   "execution_count": 3,
   "id": "7102bf86",
   "metadata": {},
   "outputs": [
    {
     "name": "stdout",
     "output_type": "stream",
     "text": [
      "Enter the value5\n",
      "\n",
      "\n",
      "C \n",
      "D D \n",
      "E E E \n"
     ]
    }
   ],
   "source": [
    "n=int(input('Enter the value'))\n",
    "for i in range(n):\n",
    "    for j in range(i-1):\n",
    "        print(chr(65+i) ,end=' ')\n",
    "    print()\n"
   ]
  },
  {
   "cell_type": "code",
   "execution_count": 8,
   "id": "3bc3ad54",
   "metadata": {},
   "outputs": [
    {
     "name": "stdout",
     "output_type": "stream",
     "text": [
      "Enter the value5\n",
      "B \n",
      "C C \n",
      "D D D \n",
      "E E E E \n",
      "F F F F F \n"
     ]
    }
   ],
   "source": [
    "n=int(input('Enter the value'))\n",
    "for i in range(1,n+1):\n",
    "    for j in range(1,i+1):\n",
    "        print(chr(65+i),end=' ')\n",
    "    print()"
   ]
  },
  {
   "cell_type": "code",
   "execution_count": 18,
   "id": "ffc8e02e",
   "metadata": {},
   "outputs": [
    {
     "name": "stdout",
     "output_type": "stream",
     "text": [
      "F F F F F F \n",
      "E E E E E \n",
      "D D D D \n",
      "C C C \n",
      "B B \n"
     ]
    }
   ],
   "source": [
    "n=5\n",
    "for i in range(n,0,-1):\n",
    "    for j in range(i+1):\n",
    "        print(chr(65+i),end=' ')\n",
    "    print()"
   ]
  },
  {
   "cell_type": "markdown",
   "id": "8e6f7313",
   "metadata": {},
   "source": [
    "# a"
   ]
  },
  {
   "cell_type": "code",
   "execution_count": 26,
   "id": "11958b04",
   "metadata": {
    "scrolled": true
   },
   "outputs": [
    {
     "name": "stdout",
     "output_type": "stream",
     "text": [
      "Enter the value5\n",
      "A \n",
      "A B \n",
      "A B C \n",
      "A B C D \n",
      "A B C D E \n"
     ]
    }
   ],
   "source": [
    "n=int(input('Enter the value'))\n",
    "for i in range(n):\n",
    "    for j in range(i+1):\n",
    "        print(chr(65+j), end=' ')\n",
    "    print()"
   ]
  },
  {
   "cell_type": "markdown",
   "id": "56ff2a2f",
   "metadata": {},
   "source": [
    "# c"
   ]
  },
  {
   "cell_type": "code",
   "execution_count": 36,
   "id": "56232817",
   "metadata": {
    "scrolled": false
   },
   "outputs": [
    {
     "name": "stdout",
     "output_type": "stream",
     "text": [
      "Enter the value5\n",
      "A B C D E \n",
      "A B C D \n",
      "A B C \n",
      "A B \n",
      "A \n"
     ]
    }
   ],
   "source": [
    "n=int(input('Enter the value'))\n",
    "for i in range(n,0,-1):\n",
    "    for j in range(1,i+1):\n",
    "        print(chr(64+j), end=' ')\n",
    "    print()"
   ]
  },
  {
   "cell_type": "markdown",
   "id": "f8abffb9",
   "metadata": {},
   "source": [
    "# d"
   ]
  },
  {
   "cell_type": "code",
   "execution_count": 42,
   "id": "b4881b2e",
   "metadata": {},
   "outputs": [
    {
     "name": "stdout",
     "output_type": "stream",
     "text": [
      "E E E E E \n",
      "D D D D \n",
      "C C C \n",
      "B B \n",
      "A \n"
     ]
    }
   ],
   "source": [
    "n=5\n",
    "for i in range(n,0,-1):\n",
    "    for j in range(1,i+1):\n",
    "        print(chr(64+i),end=' ')\n",
    "    print()"
   ]
  },
  {
   "cell_type": "code",
   "execution_count": null,
   "id": "9d3a3744",
   "metadata": {},
   "outputs": [],
   "source": []
  },
  {
   "cell_type": "code",
   "execution_count": null,
   "id": "16191ff3",
   "metadata": {},
   "outputs": [],
   "source": []
  }
 ],
 "metadata": {
  "kernelspec": {
   "display_name": "Python 3 (ipykernel)",
   "language": "python",
   "name": "python3"
  },
  "language_info": {
   "codemirror_mode": {
    "name": "ipython",
    "version": 3
   },
   "file_extension": ".py",
   "mimetype": "text/x-python",
   "name": "python",
   "nbconvert_exporter": "python",
   "pygments_lexer": "ipython3",
   "version": "3.9.13"
  }
 },
 "nbformat": 4,
 "nbformat_minor": 5
}
