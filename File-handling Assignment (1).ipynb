{
 "cells": [
  {
   "cell_type": "code",
   "execution_count": 2,
   "id": "faee4815",
   "metadata": {},
   "outputs": [],
   "source": [
    "f=open('my_data.txt')"
   ]
  },
  {
   "cell_type": "code",
   "execution_count": 6,
   "id": "c142cb1e",
   "metadata": {},
   "outputs": [
    {
     "name": "stdout",
     "output_type": "stream",
     "text": [
      "jupyt\n"
     ]
    }
   ],
   "source": [
    "print(f.read(5))"
   ]
  },
  {
   "cell_type": "code",
   "execution_count": 7,
   "id": "aeef0e86",
   "metadata": {},
   "outputs": [
    {
     "name": "stdout",
     "output_type": "stream",
     "text": [
      "er notebook\n",
      "\n",
      "Is Hong Kong bigger than UAE?\n",
      "United Arab Emirates is about 75 times bigger than Hong Kong. Hong Kong is approximately 1,108 sq km, while United Arab Emirates is approximately 83,600 sq km, making United Arab Emirates 7,445% larger than Hong Kong.\n",
      "\n"
     ]
    }
   ],
   "source": [
    "print(f.read())"
   ]
  },
  {
   "cell_type": "markdown",
   "id": "34114d03",
   "metadata": {},
   "source": [
    "# 2 "
   ]
  },
  {
   "cell_type": "code",
   "execution_count": 2,
   "id": "6e305cd4",
   "metadata": {},
   "outputs": [],
   "source": [
    "f=open('my_data.txt')"
   ]
  },
  {
   "cell_type": "code",
   "execution_count": 3,
   "id": "bf1a9fd0",
   "metadata": {},
   "outputs": [
    {
     "data": {
      "text/plain": [
       "'j'"
      ]
     },
     "execution_count": 3,
     "metadata": {},
     "output_type": "execute_result"
    }
   ],
   "source": [
    "f.readline(1)"
   ]
  },
  {
   "cell_type": "markdown",
   "id": "cffcb377",
   "metadata": {},
   "source": [
    "# 3"
   ]
  },
  {
   "cell_type": "code",
   "execution_count": 14,
   "id": "cb69b86d",
   "metadata": {},
   "outputs": [],
   "source": [
    "f=open('my_data.txt')\n"
   ]
  },
  {
   "cell_type": "code",
   "execution_count": 15,
   "id": "f40e4d08",
   "metadata": {},
   "outputs": [
    {
     "data": {
      "text/plain": [
       "['jupyter notebook\\n']"
      ]
     },
     "execution_count": 15,
     "metadata": {},
     "output_type": "execute_result"
    }
   ],
   "source": [
    "line=f.readlines(15)"
   ]
  },
  {
   "cell_type": "code",
   "execution_count": 19,
   "id": "9e2968e1",
   "metadata": {},
   "outputs": [
    {
     "ename": "NameError",
     "evalue": "name 'lines' is not defined",
     "output_type": "error",
     "traceback": [
      "\u001b[1;31m---------------------------------------------------------------------------\u001b[0m",
      "\u001b[1;31mNameError\u001b[0m                                 Traceback (most recent call last)",
      "\u001b[1;32m~\\AppData\\Local\\Temp\\ipykernel_9388\\3592789054.py\u001b[0m in \u001b[0;36m<module>\u001b[1;34m\u001b[0m\n\u001b[1;32m----> 1\u001b[1;33m \u001b[0mlen\u001b[0m\u001b[1;33m(\u001b[0m\u001b[0mlines\u001b[0m\u001b[1;33m)\u001b[0m\u001b[1;33m\u001b[0m\u001b[1;33m\u001b[0m\u001b[0m\n\u001b[0m",
      "\u001b[1;31mNameError\u001b[0m: name 'lines' is not defined"
     ]
    }
   ],
   "source": [
    "len(lines)"
   ]
  },
  {
   "cell_type": "code",
   "execution_count": null,
   "id": "29bd2903",
   "metadata": {},
   "outputs": [],
   "source": [
    "f.read()"
   ]
  },
  {
   "cell_type": "code",
   "execution_count": null,
   "id": "7203d889",
   "metadata": {},
   "outputs": [],
   "source": [
    "f.seek(0)"
   ]
  },
  {
   "cell_type": "code",
   "execution_count": 20,
   "id": "0d6701e7",
   "metadata": {},
   "outputs": [
    {
     "name": "stdout",
     "output_type": "stream",
     "text": [
      "\n",
      "Is Hong Kong bigger than UAE?\n",
      "United Arab Emirates is about 75 times bigger than Hong Kong. Hong Kong is approximately 1,108 sq km, while United Arab Emirates is approximately 83,600 sq km, making United Arab Emirates 7,445% larger than Hong Kong.\n",
      "\n"
     ]
    }
   ],
   "source": [
    "print(f.read())"
   ]
  },
  {
   "cell_type": "code",
   "execution_count": 21,
   "id": "579b31ff",
   "metadata": {},
   "outputs": [],
   "source": [
    "f1=f.readlines()"
   ]
  },
  {
   "cell_type": "code",
   "execution_count": 15,
   "id": "525f4c24",
   "metadata": {},
   "outputs": [],
   "source": [
    "f2=len(f1)"
   ]
  },
  {
   "cell_type": "code",
   "execution_count": 16,
   "id": "6f97bd21",
   "metadata": {},
   "outputs": [
    {
     "name": "stdout",
     "output_type": "stream",
     "text": [
      "Number of lines 0\n"
     ]
    }
   ],
   "source": [
    "print('Number of lines',f2)"
   ]
  },
  {
   "cell_type": "code",
   "execution_count": 18,
   "id": "b387667c",
   "metadata": {},
   "outputs": [
    {
     "name": "stdout",
     "output_type": "stream",
     "text": [
      "Enter the file name: my_data\n"
     ]
    },
    {
     "ename": "FileNotFoundError",
     "evalue": "[Errno 2] No such file or directory: 'my_data'",
     "output_type": "error",
     "traceback": [
      "\u001b[1;31m---------------------------------------------------------------------------\u001b[0m",
      "\u001b[1;31mFileNotFoundError\u001b[0m                         Traceback (most recent call last)",
      "\u001b[1;32m~\\AppData\\Local\\Temp\\ipykernel_9388\\3459520357.py\u001b[0m in \u001b[0;36m<module>\u001b[1;34m\u001b[0m\n\u001b[0;32m      2\u001b[0m \u001b[1;33m\u001b[0m\u001b[0m\n\u001b[0;32m      3\u001b[0m \u001b[1;31m# Open the file in read mode\u001b[0m\u001b[1;33m\u001b[0m\u001b[1;33m\u001b[0m\u001b[0m\n\u001b[1;32m----> 4\u001b[1;33m \u001b[1;32mwith\u001b[0m \u001b[0mopen\u001b[0m\u001b[1;33m(\u001b[0m\u001b[0mfilename\u001b[0m\u001b[1;33m,\u001b[0m \u001b[1;34m'r'\u001b[0m\u001b[1;33m)\u001b[0m \u001b[1;32mas\u001b[0m \u001b[0mfile\u001b[0m\u001b[1;33m:\u001b[0m\u001b[1;33m\u001b[0m\u001b[1;33m\u001b[0m\u001b[0m\n\u001b[0m\u001b[0;32m      5\u001b[0m     \u001b[1;31m# Use the readlines function to read all the lines\u001b[0m\u001b[1;33m\u001b[0m\u001b[1;33m\u001b[0m\u001b[0m\n\u001b[0;32m      6\u001b[0m     \u001b[0mlines\u001b[0m \u001b[1;33m=\u001b[0m \u001b[0mfile\u001b[0m\u001b[1;33m.\u001b[0m\u001b[0mreadlines\u001b[0m\u001b[1;33m(\u001b[0m\u001b[1;33m)\u001b[0m\u001b[1;33m\u001b[0m\u001b[1;33m\u001b[0m\u001b[0m\n",
      "\u001b[1;31mFileNotFoundError\u001b[0m: [Errno 2] No such file or directory: 'my_data'"
     ]
    }
   ],
   "source": [
    "filename = input(\"Enter the file name: \")\n",
    "\n",
    "# Open the file in read mode\n",
    "with open(filename, 'r') as file:\n",
    "    # Use the readlines function to read all the lines\n",
    "    lines = file.readlines()\n",
    "\n",
    "# Use the len function to get the number of lines\n",
    "num_lines = len(lines)\n",
    "\n",
    "print(f\"The file '{filename}' has {num_lines} lines.\")\n"
   ]
  },
  {
   "cell_type": "markdown",
   "id": "edef304a",
   "metadata": {},
   "source": [
    "# 4"
   ]
  },
  {
   "cell_type": "code",
   "execution_count": 18,
   "id": "4da035ef",
   "metadata": {},
   "outputs": [],
   "source": [
    "f=open('my_data.txt')"
   ]
  },
  {
   "cell_type": "code",
   "execution_count": 19,
   "id": "f9e576dd",
   "metadata": {},
   "outputs": [
    {
     "data": {
      "text/plain": [
       "['jupyter notebook\\n']"
      ]
     },
     "execution_count": 19,
     "metadata": {},
     "output_type": "execute_result"
    }
   ],
   "source": [
    "f.readlines(1)"
   ]
  },
  {
   "cell_type": "markdown",
   "id": "53a59271",
   "metadata": {},
   "source": [
    "# 5"
   ]
  },
  {
   "cell_type": "code",
   "execution_count": 2,
   "id": "9a800419",
   "metadata": {},
   "outputs": [],
   "source": [
    "f3=open('username.txt','w')"
   ]
  },
  {
   "cell_type": "code",
   "execution_count": 4,
   "id": "fb092d81",
   "metadata": {
    "scrolled": true
   },
   "outputs": [
    {
     "name": "stdout",
     "output_type": "stream",
     "text": [
      "Enter a namesayon\n"
     ]
    }
   ],
   "source": [
    "name=input('Enter a name')\n",
    "for i in range(5):\n",
    "    f3.write(name+'\\n')\n",
    "    "
   ]
  },
  {
   "cell_type": "markdown",
   "id": "65eb89be",
   "metadata": {},
   "source": [
    "# # 6.Write a program to accept five languages name from the user\n",
    "\n",
    "    "
   ]
  },
  {
   "cell_type": "code",
   "execution_count": 9,
   "id": "8994f326",
   "metadata": {},
   "outputs": [
    {
     "name": "stdout",
     "output_type": "stream",
     "text": [
      "Enter the language namesanskrit\n",
      "Languages in a file\n"
     ]
    }
   ],
   "source": [
    "language=input('Enter the language name')\n",
    "f=open('language.txt','w')\n",
    "for i in range(5):\n",
    "    f.write(language+'\\n')\n",
    "print('Languages in a file')\n",
    "    "
   ]
  },
  {
   "cell_type": "markdown",
   "id": "9595d639",
   "metadata": {},
   "source": [
    "# 7.write a program to accept five hobbies from the user  and write in a file hobbies.txt without write function\n"
   ]
  },
  {
   "cell_type": "code",
   "execution_count": 3,
   "id": "97245826",
   "metadata": {},
   "outputs": [
    {
     "name": "stdout",
     "output_type": "stream",
     "text": [
      "Enter the hobbies name listening music\n",
      "hobbies in a file\n"
     ]
    }
   ],
   "source": [
    "hobby=input('Enter the hobbies name')\n",
    "f=open('hobby.txt','a')\n",
    "for i in range(5):\n",
    "    f.writelines(hobby+'\\n')\n",
    "print('hobbies in a file')"
   ]
  },
  {
   "cell_type": "markdown",
   "id": "227a3f7c",
   "metadata": {},
   "source": [
    "# 8 write a program to count the number of upper case alphabet in a file articlw.txt"
   ]
  },
  {
   "cell_type": "code",
   "execution_count": 7,
   "id": "721444fb",
   "metadata": {},
   "outputs": [],
   "source": [
    "f=open('article.txt','w')"
   ]
  },
  {
   "cell_type": "code",
   "execution_count": 8,
   "id": "fcfdf7ad",
   "metadata": {},
   "outputs": [
    {
     "data": {
      "text/plain": [
       "16"
      ]
     },
     "execution_count": 8,
     "metadata": {},
     "output_type": "execute_result"
    }
   ],
   "source": [
    "f.write('1234@#aeFgH%^jou')"
   ]
  },
  {
   "cell_type": "code",
   "execution_count": 9,
   "id": "e0b83d61",
   "metadata": {},
   "outputs": [],
   "source": [
    "f.close()"
   ]
  },
  {
   "cell_type": "code",
   "execution_count": 4,
   "id": "78c9d84e",
   "metadata": {},
   "outputs": [
    {
     "name": "stdout",
     "output_type": "stream",
     "text": [
      "Number of uppercas letter in python 26\n"
     ]
    }
   ],
   "source": [
    "f=open('article.txt','r')\n",
    "U=0\n",
    "x=f.read()\n",
    "for i in x:\n",
    "    if i.isupper():\n",
    "        U+=1\n",
    "print('Number of uppercas letter in python',U)\n",
    "f.close()"
   ]
  },
  {
   "cell_type": "markdown",
   "id": "4c3449dd",
   "metadata": {},
   "source": [
    "# 9 write a program to count the number of lower case alphabet in a file article.txt"
   ]
  },
  {
   "cell_type": "code",
   "execution_count": 5,
   "id": "9c558d6a",
   "metadata": {},
   "outputs": [
    {
     "name": "stdout",
     "output_type": "stream",
     "text": [
      "Number of uppercas letter in python 696\n"
     ]
    }
   ],
   "source": [
    "f=open('article.txt','r')\n",
    "L=0\n",
    "x=f.read()\n",
    "for i in x:\n",
    "    if i.islower():\n",
    "        L+=1\n",
    "print('Number of uppercas letter in python',L)\n",
    "f.close()"
   ]
  },
  {
   "cell_type": "markdown",
   "id": "42e2f1dd",
   "metadata": {},
   "source": [
    "# 10 write a program to count the words 'To' & 'The' present in the file"
   ]
  },
  {
   "cell_type": "code",
   "execution_count": 7,
   "id": "5fee84b4",
   "metadata": {},
   "outputs": [
    {
     "name": "stdout",
     "output_type": "stream",
     "text": [
      "Total of the words 10\n"
     ]
    }
   ],
   "source": [
    "f=open('article.txt','r')\n",
    "count=0\n",
    "x=f.read()\n",
    "data=x.split()\n",
    "for i in data:\n",
    "    if i=='to' or i=='the':\n",
    "        count+=1\n",
    "        \n",
    "print('Total of the words',count)\n",
    "f.close()\n",
    "        "
   ]
  },
  {
   "cell_type": "code",
   "execution_count": null,
   "id": "4d2eab91",
   "metadata": {},
   "outputs": [],
   "source": []
  }
 ],
 "metadata": {
  "kernelspec": {
   "display_name": "Python 3 (ipykernel)",
   "language": "python",
   "name": "python3"
  },
  "language_info": {
   "codemirror_mode": {
    "name": "ipython",
    "version": 3
   },
   "file_extension": ".py",
   "mimetype": "text/x-python",
   "name": "python",
   "nbconvert_exporter": "python",
   "pygments_lexer": "ipython3",
   "version": "3.9.13"
  }
 },
 "nbformat": 4,
 "nbformat_minor": 5
}
